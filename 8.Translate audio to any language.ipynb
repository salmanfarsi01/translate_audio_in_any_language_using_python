{
 "cells": [
  {
   "cell_type": "code",
   "execution_count": 3,
   "id": "49a6c3d8-1f73-4306-a7c1-8eed636cd4c2",
   "metadata": {},
   "outputs": [
    {
     "data": {
      "text/plain": [
       "'\\n1.Using Speech recognition for converting the audio to text\\n2. Using googletrans used for translating the text\\n3. \\n'"
      ]
     },
     "execution_count": 3,
     "metadata": {},
     "output_type": "execute_result"
    }
   ],
   "source": [
    "#interpretetion:\n",
    "\"\"\"\n",
    "1.Using Speech recognition for converting the audio to text\n",
    "2. Using googletrans used for translating the text\n",
    "3. \n",
    "\"\"\""
   ]
  },
  {
   "cell_type": "code",
   "execution_count": 2,
   "id": "dd771343-d639-4890-980b-b9102845c25b",
   "metadata": {},
   "outputs": [
    {
     "name": "stdout",
     "output_type": "stream",
     "text": [
      "Please say something...\n",
      "Original Transcription:\n",
      "hello everyone my name is Salman Farsi and my university is south east University and my department is Computer Science and Engineering and I want to I love to work with data science and my favourite language is python\n",
      "Translated Text (French):\n",
      "হ্যালো সবাই আমার নাম সালমান ফারসি এবং আমার বিশ্ববিদ্যালয় দক্ষিণ পূর্ব বিশ্ববিদ্যালয় এবং আমার বিভাগ কম্পিউটার বিজ্ঞান এবং প্রকৌশল এবং আমি ডেটা সায়েন্সের সাথে কাজ করতে চাই এবং আমার প্রিয় ভাষা পাইথন\n"
     ]
    }
   ],
   "source": [
    "import speech_recognition as sr\n",
    "from googletrans import Translator\n",
    "\n",
    "def main():\n",
    "    r = sr.Recognizer()\n",
    "    translator = Translator()\n",
    "    \n",
    "    # Use the microphone to capture audio\n",
    "    with sr.Microphone() as source:\n",
    "        r.adjust_for_ambient_noise(source)\n",
    "        print(\"Please say something...\")\n",
    "        audio = r.listen(source)  # Listen to the audio from the microphone\n",
    "        \n",
    "        try:\n",
    "            # Transcribe the speech to text\n",
    "            text = r.recognize_google(audio)\n",
    "            print(\"Original Transcription:\\n\" + text)\n",
    "            \n",
    "            # Translate the text to the desired language (e.g., French)\n",
    "            translated_text = translator.translate(text, dest='bn').text\n",
    "            print(\"Translated Text (French):\\n\" + translated_text)\n",
    "            \n",
    "        except Exception as e:\n",
    "            print(\"Error:\" + str(e))\n",
    "\n",
    "if __name__ == \"__main__\":\n",
    "    main()\n"
   ]
  },
  {
   "cell_type": "code",
   "execution_count": null,
   "id": "0c5a5067-547c-43ac-93d4-04d3fe409a90",
   "metadata": {},
   "outputs": [],
   "source": []
  }
 ],
 "metadata": {
  "kernelspec": {
   "display_name": "ML-KERNEL",
   "language": "python",
   "name": "ml-kernel"
  },
  "language_info": {
   "codemirror_mode": {
    "name": "ipython",
    "version": 3
   },
   "file_extension": ".py",
   "mimetype": "text/x-python",
   "name": "python",
   "nbconvert_exporter": "python",
   "pygments_lexer": "ipython3",
   "version": "3.12.4"
  }
 },
 "nbformat": 4,
 "nbformat_minor": 5
}
